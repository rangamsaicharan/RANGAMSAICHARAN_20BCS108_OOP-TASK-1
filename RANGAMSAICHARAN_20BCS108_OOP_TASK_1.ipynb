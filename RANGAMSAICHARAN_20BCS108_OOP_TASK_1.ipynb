{
  "nbformat": 4,
  "nbformat_minor": 0,
  "metadata": {
    "colab": {
      "name": "RANGAMSAICHARAN_20BCS108_OOP TASK 1",
      "provenance": [],
      "authorship_tag": "ABX9TyNTaM4TA4x2yJwDB1uWr+Tf",
      "include_colab_link": true
    },
    "kernelspec": {
      "name": "python3",
      "display_name": "Python 3"
    },
    "language_info": {
      "name": "python"
    }
  },
  "cells": [
    {
      "cell_type": "markdown",
      "metadata": {
        "id": "view-in-github",
        "colab_type": "text"
      },
      "source": [
        "<a href=\"https://colab.research.google.com/github/rangamsaicharan/RANGAMSAICHARAN_20BCS108_OOP-TASK-1/blob/main/RANGAMSAICHARAN_20BCS108_OOP_TASK_1.ipynb\" target=\"_parent\"><img src=\"https://colab.research.google.com/assets/colab-badge.svg\" alt=\"Open In Colab\"/></a>"
      ]
    },
    {
      "cell_type": "code",
      "metadata": {
        "colab": {
          "base_uri": "https://localhost:8080/"
        },
        "id": "jzYzprBnjudw",
        "outputId": "49348187-695a-445f-9b70-cab590e125cd"
      },
      "source": [
        "year = int(input(\"Enter the Year: \"))\n",
        "\n",
        "def checkyear(year):\n",
        "  if(year%400 == 0):\n",
        "    print('It is a leap year')\n",
        "    return(True)\n",
        "    \n",
        "  elif(year%4==0 and year %100 != 0):\n",
        "    print('It is a leap year')\n",
        "    return(TRUE)\n",
        "    \n",
        "  else:\n",
        "    print('It is not a leap year')\n",
        "    return(False)\n",
        "    \n",
        "checkyear(year)"
      ],
      "execution_count": null,
      "outputs": [
        {
          "output_type": "stream",
          "name": "stdout",
          "text": [
            "Enter the Year: 2022\n",
            "It is not a leap year\n"
          ]
        },
        {
          "output_type": "execute_result",
          "data": {
            "text/plain": [
              "False"
            ]
          },
          "metadata": {},
          "execution_count": 5
        }
      ]
    },
    {
      "cell_type": "code",
      "metadata": {
        "colab": {
          "base_uri": "https://localhost:8080/"
        },
        "id": "cLwPh-wflF2_",
        "outputId": "2a263bd2-2e26-490f-96b9-1d4c34bebe78"
      },
      "source": [
        "n = int(input(\"Enter a number: \"))\n",
        "if(n%2 != 0):\n",
        "  print(\"Weird\")  \n",
        "elif(n%2 == 0):\n",
        "  if(n>= 2 and n<=5):\n",
        "    print(\"Not Weird\")\n",
        "  if(n>=6 and n<=20):\n",
        "    print(\"Weird\")\n",
        "  if(n>20):\n",
        "    print(\"Not Weird\")"
      ],
      "execution_count": null,
      "outputs": [
        {
          "output_type": "stream",
          "name": "stdout",
          "text": [
            "Enter a number: 5\n",
            "Weird\n"
          ]
        }
      ]
    },
    {
      "cell_type": "code",
      "metadata": {
        "colab": {
          "base_uri": "https://localhost:8080/"
        },
        "id": "2DfZGD9Jnwxc",
        "outputId": "202c0439-51eb-4edf-9c24-4a2ccee87ff4"
      },
      "source": [
        "n = int(input(\"Enter the number of guests: \"))\n",
        "guests = []\n",
        "for i in range(0, n):\n",
        "  name = str(input(\"enter the name of guests: \"))\n",
        "  guests.append([name])\n",
        "print(\"Guests are: \", guests)\n",
        "if(n%2==0):\n",
        "  for k in range( int((n)/2) , n-1):\n",
        "    print(\"\\nFashionable late persons are: \", guests[k])\n",
        "elif(n%2 != 0):\n",
        "  for k in range( int((n-1)/2) , n-1):\n",
        "    print(\"\\nFashionable late persons are: \", guests[k])"
      ],
      "execution_count": null,
      "outputs": [
        {
          "output_type": "stream",
          "name": "stdout",
          "text": [
            "Enter the number of guests: 4\n",
            "enter the name of guests: Lokesh\n",
            "enter the name of guests: Nirmal swaroop\n",
            "enter the name of guests: Karthik\n",
            "enter the name of guests: Hanuma reddy\n",
            "Guests are:  [['Lokesh'], ['Nirmal swaroop'], ['Karthik'], ['Hanuma reddy']]\n",
            "\n",
            "Fashionable late persons are:  ['Karthik']\n"
          ]
        }
      ]
    },
    {
      "cell_type": "code",
      "metadata": {
        "colab": {
          "base_uri": "https://localhost:8080/"
        },
        "id": "vZQaM6gcoiGZ",
        "outputId": "5ad8f64a-3ba1-46cc-a951-8ac74ff9eb99"
      },
      "source": [
        "def word_search_2(title_list, keyword):\n",
        "    # make lowercase and remove punctuation\n",
        "    keyword = keyword.lower().strip('.,')\n",
        "\n",
        "    result_list = []\n",
        "    for i, title in enumerate(title_list):\n",
        "        # make lowercase and remove punctuation, then split into words\n",
        "        words = title.lower().strip('.,').split()\n",
        "\n",
        "        if keyword in words:\n",
        "            result_list.append((i, title))\n",
        "\n",
        "    return result_list\n",
        "\n",
        "if __name__ == '__main__':\n",
        "    docs = ['The Learn Python Challenge by Mahi','El do-rado','The mysterious house','Casinoville?',]\n",
        "    w = 'house'\n",
        "\n",
        "    print(word_search_2(docs, w))"
      ],
      "execution_count": null,
      "outputs": [
        {
          "output_type": "stream",
          "name": "stdout",
          "text": [
            "[(2, 'The mysterious house')]\n"
          ]
        }
      ]
    },
    {
      "cell_type": "code",
      "metadata": {
        "colab": {
          "base_uri": "https://localhost:8080/"
        },
        "id": "vruRyGyls8Zv",
        "outputId": "0afaa472-37ec-47af-e0c2-3b65bc7a1a8b"
      },
      "source": [
        "BP = float(input(\"Enter the Basic Pay: \"))\n",
        "DA = (40*BP)/100\n",
        "HRA = (20*BP)/100\n",
        "GP = BP + DA + HRA\n",
        "print('Gross pay is:',GP)"
      ],
      "execution_count": null,
      "outputs": [
        {
          "output_type": "stream",
          "name": "stdout",
          "text": [
            "Enter the Basic Pay: 100\n",
            "Gross pay is: 160.0\n"
          ]
        }
      ]
    }
  ]
}